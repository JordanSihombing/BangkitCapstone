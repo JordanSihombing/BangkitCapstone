{
  "nbformat": 4,
  "nbformat_minor": 0,
  "metadata": {
    "colab": {
      "provenance": []
    },
    "kernelspec": {
      "name": "python3",
      "display_name": "Python 3"
    },
    "language_info": {
      "name": "python"
    }
  },
  "cells": [
    {
      "cell_type": "code",
      "execution_count": null,
      "metadata": {
        "id": "-RnenaYu2tiT"
      },
      "outputs": [],
      "source": [
        "pip install -q opencv-python"
      ]
    },
    {
      "cell_type": "code",
      "source": [
        "import csv\n",
        "import cv2\n",
        "import itertools\n",
        "import numpy as np\n",
        "import pandas as pd\n",
        "import os\n",
        "import sys\n",
        "import tempfile\n",
        "import tqdm\n",
        "\n",
        "from matplotlib import pyplot as plt\n",
        "from matplotlib.collections import LineCollection\n",
        "\n",
        "import tensorflow as tf\n",
        "import tensorflow_hub as hub\n",
        "from tensorflow import keras\n",
        "\n",
        "from sklearn.model_selection import train_test_split\n",
        "from sklearn.metrics import accuracy_score, classification_report, confusion_matrix"
      ],
      "metadata": {
        "id": "0F8N1Xwj27a4"
      },
      "execution_count": null,
      "outputs": []
    },
    {
      "cell_type": "code",
      "source": [
        "# Download model from TF Hub and check out inference code from GitHub\n",
        "!wget -q -O movenet_thunder.tflite https://tfhub.dev/google/lite-model/movenet/singlepose/thunder/tflite/float16/4?lite-format=tflite\n",
        "!git clone https://github.com/tensorflow/examples.git\n",
        "pose_sample_rpi_path = os.path.join(os.getcwd(), 'examples/lite/examples/pose_estimation/raspberry_pi')\n",
        "sys.path.append(pose_sample_rpi_path)\n",
        "\n",
        "# Load MoveNet Thunder model\n",
        "import utils\n",
        "from data import BodyPart\n",
        "from ml import Movenet\n",
        "movenet = Movenet('movenet_thunder')\n",
        "\n",
        "# Define function to run pose estimation using MoveNet Thunder.\n",
        "# You'll apply MoveNet's cropping algorithm and run inference multiple times on\n",
        "# the input image to improve pose estimation accuracy.\n",
        "def detect(input_tensor, inference_count=3):\n",
        "\n",
        "  image_height, image_width, channel = input_tensor.shape\n",
        "\n",
        "  # Detect pose using the full input image\n",
        "  movenet.detect(input_tensor.numpy(), reset_crop_region=True)\n",
        "\n",
        "  # Repeatedly using previous detection result to identify the region of\n",
        "  # interest and only croping that region to improve detection accuracy\n",
        "  for _ in range(inference_count - 1):\n",
        "    person = movenet.detect(input_tensor.numpy(),\n",
        "                            reset_crop_region=False)\n",
        "\n",
        "  return person"
      ],
      "metadata": {
        "id": "VevL_b5p5iZc",
        "colab": {
          "base_uri": "https://localhost:8080/"
        },
        "outputId": "ca3b281d-23e7-4f6e-d1aa-d9a28fc403ce"
      },
      "execution_count": null,
      "outputs": [
        {
          "output_type": "stream",
          "name": "stdout",
          "text": [
            "Cloning into 'examples'...\n",
            "remote: Enumerating objects: 23729, done.\u001b[K\n",
            "remote: Counting objects: 100% (693/693), done.\u001b[K\n",
            "remote: Compressing objects: 100% (430/430), done.\u001b[K\n",
            "remote: Total 23729 (delta 227), reused 618 (delta 175), pack-reused 23036\u001b[K\n",
            "Receiving objects: 100% (23729/23729), 44.18 MiB | 15.74 MiB/s, done.\n",
            "Resolving deltas: 100% (12875/12875), done.\n",
            "Updating files: 100% (2850/2850), done.\n"
          ]
        }
      ]
    },
    {
      "cell_type": "code",
      "source": [],
      "metadata": {
        "id": "9uEkvmYns0fP"
      },
      "execution_count": null,
      "outputs": []
    },
    {
      "cell_type": "code",
      "source": [
        "csvs_out_test_path = 'test_data (3).csv'\n",
        "csvs_out_train_path = 'train_data (4).csv'"
      ],
      "metadata": {
        "id": "JjJSJNlp3_8v"
      },
      "execution_count": null,
      "outputs": []
    },
    {
      "cell_type": "code",
      "source": [
        "def load_pose_landmarks(csv_path):\n",
        "  \"Loads a CSV created by MoveNetPreprocessor.\"\n",
        "\n",
        "  # Load the CSV file\n",
        "  dataframe = pd.read_csv(csv_path)\n",
        "  df_to_process = dataframe.copy()\n",
        "\n",
        "  # Drop the file_name columns as you don't need it during training.\n",
        "  df_to_process.drop(columns=['file_name'], inplace=True)\n",
        "\n",
        "  # Extract the list of class names\n",
        "  classes = df_to_process.pop('class_name').unique()\n",
        "\n",
        "  # Extract the labels\n",
        "  y = df_to_process.pop('class_no')\n",
        "\n",
        "  # Convert the input features and labels into the correct format for training.\n",
        "  X = df_to_process.astype('float64')\n",
        "  y = keras.utils.to_categorical(y)\n",
        "\n",
        "  return X, y, classes, dataframe"
      ],
      "metadata": {
        "id": "BKTIFNHN3IyX"
      },
      "execution_count": null,
      "outputs": []
    },
    {
      "cell_type": "code",
      "source": [],
      "metadata": {
        "id": "2gS4kP7RIITP"
      },
      "execution_count": null,
      "outputs": []
    },
    {
      "cell_type": "code",
      "source": [
        "\n",
        "X, y, class_names, _ = load_pose_landmarks(csvs_out_test_path)\n",
        "\n",
        "\n",
        "X_train, X_val, y_train, y_val = train_test_split(X, y,\n",
        "                                                  test_size=0.15)"
      ],
      "metadata": {
        "id": "vmjXb1kK3KGc"
      },
      "execution_count": null,
      "outputs": []
    },
    {
      "cell_type": "code",
      "source": [
        "# Load the test data\n",
        "X_test, y_test, _, df_test = load_pose_landmarks(csvs_out_train_path)"
      ],
      "metadata": {
        "id": "HvEI6lb44Iei"
      },
      "execution_count": null,
      "outputs": []
    },
    {
      "cell_type": "code",
      "source": [
        "df_test.info()"
      ],
      "metadata": {
        "colab": {
          "base_uri": "https://localhost:8080/"
        },
        "id": "wFe81hhgJLdr",
        "outputId": "68d357d0-47d2-4e2b-e892-8b27ad1aa0f7"
      },
      "execution_count": null,
      "outputs": [
        {
          "output_type": "stream",
          "name": "stdout",
          "text": [
            "<class 'pandas.core.frame.DataFrame'>\n",
            "RangeIndex: 862 entries, 0 to 861\n",
            "Data columns (total 54 columns):\n",
            " #   Column                Non-Null Count  Dtype  \n",
            "---  ------                --------------  -----  \n",
            " 0   file_name             862 non-null    object \n",
            " 1   NOSE_x                862 non-null    float64\n",
            " 2   NOSE_y                862 non-null    float64\n",
            " 3   NOSE_score            862 non-null    float64\n",
            " 4   LEFT_EYE_x            862 non-null    float64\n",
            " 5   LEFT_EYE_y            862 non-null    float64\n",
            " 6   LEFT_EYE_score        862 non-null    float64\n",
            " 7   RIGHT_EYE_x           862 non-null    float64\n",
            " 8   RIGHT_EYE_y           862 non-null    float64\n",
            " 9   RIGHT_EYE_score       862 non-null    float64\n",
            " 10  LEFT_EAR_x            862 non-null    float64\n",
            " 11  LEFT_EAR_y            862 non-null    float64\n",
            " 12  LEFT_EAR_score        862 non-null    float64\n",
            " 13  RIGHT_EAR_x           862 non-null    float64\n",
            " 14  RIGHT_EAR_y           862 non-null    float64\n",
            " 15  RIGHT_EAR_score       862 non-null    float64\n",
            " 16  LEFT_SHOULDER_x       862 non-null    float64\n",
            " 17  LEFT_SHOULDER_y       862 non-null    float64\n",
            " 18  LEFT_SHOULDER_score   862 non-null    float64\n",
            " 19  RIGHT_SHOULDER_x      862 non-null    float64\n",
            " 20  RIGHT_SHOULDER_y      862 non-null    float64\n",
            " 21  RIGHT_SHOULDER_score  862 non-null    float64\n",
            " 22  LEFT_ELBOW_x          862 non-null    float64\n",
            " 23  LEFT_ELBOW_y          862 non-null    float64\n",
            " 24  LEFT_ELBOW_score      862 non-null    float64\n",
            " 25  RIGHT_ELBOW_x         862 non-null    float64\n",
            " 26  RIGHT_ELBOW_y         862 non-null    float64\n",
            " 27  RIGHT_ELBOW_score     862 non-null    float64\n",
            " 28  LEFT_WRIST_x          862 non-null    float64\n",
            " 29  LEFT_WRIST_y          862 non-null    float64\n",
            " 30  LEFT_WRIST_score      862 non-null    float64\n",
            " 31  RIGHT_WRIST_x         862 non-null    float64\n",
            " 32  RIGHT_WRIST_y         862 non-null    float64\n",
            " 33  RIGHT_WRIST_score     862 non-null    float64\n",
            " 34  LEFT_HIP_x            862 non-null    float64\n",
            " 35  LEFT_HIP_y            862 non-null    float64\n",
            " 36  LEFT_HIP_score        862 non-null    float64\n",
            " 37  RIGHT_HIP_x           862 non-null    float64\n",
            " 38  RIGHT_HIP_y           862 non-null    float64\n",
            " 39  RIGHT_HIP_score       862 non-null    float64\n",
            " 40  LEFT_KNEE_x           862 non-null    float64\n",
            " 41  LEFT_KNEE_y           862 non-null    float64\n",
            " 42  LEFT_KNEE_score       862 non-null    float64\n",
            " 43  RIGHT_KNEE_x          862 non-null    float64\n",
            " 44  RIGHT_KNEE_y          862 non-null    float64\n",
            " 45  RIGHT_KNEE_score      862 non-null    float64\n",
            " 46  LEFT_ANKLE_x          862 non-null    float64\n",
            " 47  LEFT_ANKLE_y          862 non-null    float64\n",
            " 48  LEFT_ANKLE_score      862 non-null    float64\n",
            " 49  RIGHT_ANKLE_x         862 non-null    float64\n",
            " 50  RIGHT_ANKLE_y         862 non-null    float64\n",
            " 51  RIGHT_ANKLE_score     862 non-null    float64\n",
            " 52  class_no              862 non-null    int64  \n",
            " 53  class_name            862 non-null    object \n",
            "dtypes: float64(51), int64(1), object(2)\n",
            "memory usage: 363.8+ KB\n"
          ]
        }
      ]
    },
    {
      "cell_type": "code",
      "source": [
        "def calculate_center(landmarks, left_part, right_part):\n",
        "    left = tf.gather(landmarks, left_part.value, axis=1)\n",
        "    right = tf.gather(landmarks, right_part.value, axis=1)\n",
        "    center = left * 0.5 + right * 0.5\n",
        "    return center\n",
        "\n",
        "def calculate_pose_size(landmarks, torso_multiplier=2.5):\n",
        "\n",
        "    hips_center = calculate_center(landmarks, BodyPart.LEFT_HIP, BodyPart.RIGHT_HIP)\n",
        "\n",
        "    shoulders_center = calculate_center(landmarks, BodyPart.LEFT_SHOULDER, BodyPart.RIGHT_SHOULDER)\n",
        "\n",
        "    torso_size = tf.linalg.norm(shoulders_center - hips_center)\n",
        "\n",
        "    pose_center = calculate_center(landmarks, BodyPart.LEFT_HIP, BodyPart.RIGHT_HIP)\n",
        "    pose_center = tf.expand_dims(pose_center, axis=1)\n",
        "    pose_center = tf.broadcast_to(pose_center, [tf.size(landmarks) // (17 * 2), 17, 2])\n",
        "\n",
        "    dist_to_pose_center = tf.gather(landmarks - pose_center, 0, axis=0, name=\"dist_to_pose_center\")\n",
        "    max_dist = tf.reduce_max(tf.linalg.norm(dist_to_pose_center, axis=0))\n",
        "    pose_size = tf.maximum(torso_size * torso_multiplier, max_dist)\n",
        "\n",
        "    return pose_size"
      ],
      "metadata": {
        "id": "eAllCMOl4MPd"
      },
      "execution_count": null,
      "outputs": []
    },
    {
      "cell_type": "code",
      "source": [
        "def normalize_landmarks(landmarks):\n",
        "    \"\"\"Normalizes pose landmarks by centering them at (0,0) and scaling to a constant pose size.\"\"\"\n",
        "    pose_center = calculate_center(landmarks, BodyPart.LEFT_HIP, BodyPart.RIGHT_HIP)\n",
        "    pose_center = tf.expand_dims(pose_center, axis=1)\n",
        "    pose_center = tf.broadcast_to(pose_center, [tf.size(landmarks) // (17 * 2), 17, 2])\n",
        "    landmarks = landmarks - pose_center\n",
        "    pose_size = calculate_pose_size(landmarks)\n",
        "    landmarks /= pose_size\n",
        "\n",
        "    return landmarks"
      ],
      "metadata": {
        "id": "BHGx0LHfutLR"
      },
      "execution_count": null,
      "outputs": []
    },
    {
      "cell_type": "code",
      "source": [
        "def landmarks_to_embedding(landmarks_and_scores):\n",
        "    \"\"\"Converts pose landmarks into a flattened pose embedding.\"\"\"\n",
        "    reshaped_inputs = keras.layers.Reshape((17, 3))(landmarks_and_scores)\n",
        "\n",
        "    normalized_landmarks = normalize_landmarks(reshaped_inputs[:, :, :2])\n",
        "\n",
        "    embedding = keras.layers.Flatten()(normalized_landmarks)\n",
        "\n",
        "    return embedding"
      ],
      "metadata": {
        "id": "D1Ia5Hcsuqq7"
      },
      "execution_count": null,
      "outputs": []
    },
    {
      "cell_type": "code",
      "source": [
        "inputs = tf.keras.Input(shape=(51))\n",
        "embedding = landmarks_to_embedding(inputs)\n",
        "\n",
        "layer = keras.layers.Dense(128, activation=tf.nn.relu6)(embedding)\n",
        "layer = keras.layers.Dropout(0.5)(layer)\n",
        "layer = keras.layers.Dense(64, activation=tf.nn.relu6)(layer)\n",
        "layer = keras.layers.Dropout(0.5)(layer)\n",
        "outputs = keras.layers.Dense(len(class_names), activation=\"softmax\")(layer)\n",
        "\n",
        "model = keras.Model(inputs, outputs)\n",
        "model.summary()"
      ],
      "metadata": {
        "colab": {
          "base_uri": "https://localhost:8080/"
        },
        "id": "Ilwy8kmX5xCC",
        "outputId": "22909745-8b70-420c-edb4-8c9a1fcab86c"
      },
      "execution_count": null,
      "outputs": [
        {
          "output_type": "stream",
          "name": "stdout",
          "text": [
            "Model: \"model_2\"\n",
            "__________________________________________________________________________________________________\n",
            " Layer (type)                Output Shape                 Param #   Connected to                  \n",
            "==================================================================================================\n",
            " input_3 (InputLayer)        [(None, 51)]                 0         []                            \n",
            "                                                                                                  \n",
            " reshape_2 (Reshape)         (None, 17, 3)                0         ['input_3[0][0]']             \n",
            "                                                                                                  \n",
            " tf.__operators__.getitem_2  (None, 17, 2)                0         ['reshape_2[0][0]']           \n",
            "  (SlicingOpLambda)                                                                               \n",
            "                                                                                                  \n",
            " tf.compat.v1.gather_18 (TF  (None, 2)                    0         ['tf.__operators__.getitem_2[0\n",
            " OpLambda)                                                          ][0]']                        \n",
            "                                                                                                  \n",
            " tf.compat.v1.gather_19 (TF  (None, 2)                    0         ['tf.__operators__.getitem_2[0\n",
            " OpLambda)                                                          ][0]']                        \n",
            "                                                                                                  \n",
            " tf.math.multiply_18 (TFOpL  (None, 2)                    0         ['tf.compat.v1.gather_18[0][0]\n",
            " ambda)                                                             ']                            \n",
            "                                                                                                  \n",
            " tf.math.multiply_19 (TFOpL  (None, 2)                    0         ['tf.compat.v1.gather_19[0][0]\n",
            " ambda)                                                             ']                            \n",
            "                                                                                                  \n",
            " tf.__operators__.add_8 (TF  (None, 2)                    0         ['tf.math.multiply_18[0][0]', \n",
            " OpLambda)                                                           'tf.math.multiply_19[0][0]'] \n",
            "                                                                                                  \n",
            " tf.compat.v1.size_4 (TFOpL  ()                           0         ['tf.__operators__.getitem_2[0\n",
            " ambda)                                                             ][0]']                        \n",
            "                                                                                                  \n",
            " tf.expand_dims_4 (TFOpLamb  (None, 1, 2)                 0         ['tf.__operators__.add_8[0][0]\n",
            " da)                                                                ']                            \n",
            "                                                                                                  \n",
            " tf.compat.v1.floor_div_4 (  ()                           0         ['tf.compat.v1.size_4[0][0]'] \n",
            " TFOpLambda)                                                                                      \n",
            "                                                                                                  \n",
            " tf.broadcast_to_4 (TFOpLam  (None, 17, 2)                0         ['tf.expand_dims_4[0][0]',    \n",
            " bda)                                                                'tf.compat.v1.floor_div_4[0][\n",
            "                                                                    0]']                          \n",
            "                                                                                                  \n",
            " tf.math.subtract_6 (TFOpLa  (None, 17, 2)                0         ['tf.__operators__.getitem_2[0\n",
            " mbda)                                                              ][0]',                        \n",
            "                                                                     'tf.broadcast_to_4[0][0]']   \n",
            "                                                                                                  \n",
            " tf.compat.v1.gather_24 (TF  (None, 2)                    0         ['tf.math.subtract_6[0][0]']  \n",
            " OpLambda)                                                                                        \n",
            "                                                                                                  \n",
            " tf.compat.v1.gather_25 (TF  (None, 2)                    0         ['tf.math.subtract_6[0][0]']  \n",
            " OpLambda)                                                                                        \n",
            "                                                                                                  \n",
            " tf.math.multiply_24 (TFOpL  (None, 2)                    0         ['tf.compat.v1.gather_24[0][0]\n",
            " ambda)                                                             ']                            \n",
            "                                                                                                  \n",
            " tf.math.multiply_25 (TFOpL  (None, 2)                    0         ['tf.compat.v1.gather_25[0][0]\n",
            " ambda)                                                             ']                            \n",
            "                                                                                                  \n",
            " tf.__operators__.add_11 (T  (None, 2)                    0         ['tf.math.multiply_24[0][0]', \n",
            " FOpLambda)                                                          'tf.math.multiply_25[0][0]'] \n",
            "                                                                                                  \n",
            " tf.compat.v1.size_5 (TFOpL  ()                           0         ['tf.math.subtract_6[0][0]']  \n",
            " ambda)                                                                                           \n",
            "                                                                                                  \n",
            " tf.compat.v1.gather_22 (TF  (None, 2)                    0         ['tf.math.subtract_6[0][0]']  \n",
            " OpLambda)                                                                                        \n",
            "                                                                                                  \n",
            " tf.compat.v1.gather_23 (TF  (None, 2)                    0         ['tf.math.subtract_6[0][0]']  \n",
            " OpLambda)                                                                                        \n",
            "                                                                                                  \n",
            " tf.compat.v1.gather_20 (TF  (None, 2)                    0         ['tf.math.subtract_6[0][0]']  \n",
            " OpLambda)                                                                                        \n",
            "                                                                                                  \n",
            " tf.compat.v1.gather_21 (TF  (None, 2)                    0         ['tf.math.subtract_6[0][0]']  \n",
            " OpLambda)                                                                                        \n",
            "                                                                                                  \n",
            " tf.expand_dims_5 (TFOpLamb  (None, 1, 2)                 0         ['tf.__operators__.add_11[0][0\n",
            " da)                                                                ]']                           \n",
            "                                                                                                  \n",
            " tf.compat.v1.floor_div_5 (  ()                           0         ['tf.compat.v1.size_5[0][0]'] \n",
            " TFOpLambda)                                                                                      \n",
            "                                                                                                  \n",
            " tf.math.multiply_22 (TFOpL  (None, 2)                    0         ['tf.compat.v1.gather_22[0][0]\n",
            " ambda)                                                             ']                            \n",
            "                                                                                                  \n",
            " tf.math.multiply_23 (TFOpL  (None, 2)                    0         ['tf.compat.v1.gather_23[0][0]\n",
            " ambda)                                                             ']                            \n",
            "                                                                                                  \n",
            " tf.math.multiply_20 (TFOpL  (None, 2)                    0         ['tf.compat.v1.gather_20[0][0]\n",
            " ambda)                                                             ']                            \n",
            "                                                                                                  \n",
            " tf.math.multiply_21 (TFOpL  (None, 2)                    0         ['tf.compat.v1.gather_21[0][0]\n",
            " ambda)                                                             ']                            \n",
            "                                                                                                  \n",
            " tf.broadcast_to_5 (TFOpLam  (None, 17, 2)                0         ['tf.expand_dims_5[0][0]',    \n",
            " bda)                                                                'tf.compat.v1.floor_div_5[0][\n",
            "                                                                    0]']                          \n",
            "                                                                                                  \n",
            " tf.__operators__.add_10 (T  (None, 2)                    0         ['tf.math.multiply_22[0][0]', \n",
            " FOpLambda)                                                          'tf.math.multiply_23[0][0]'] \n",
            "                                                                                                  \n",
            " tf.__operators__.add_9 (TF  (None, 2)                    0         ['tf.math.multiply_20[0][0]', \n",
            " OpLambda)                                                           'tf.math.multiply_21[0][0]'] \n",
            "                                                                                                  \n",
            " tf.math.subtract_8 (TFOpLa  (None, 17, 2)                0         ['tf.math.subtract_6[0][0]',  \n",
            " mbda)                                                               'tf.broadcast_to_5[0][0]']   \n",
            "                                                                                                  \n",
            " tf.math.subtract_7 (TFOpLa  (None, 2)                    0         ['tf.__operators__.add_10[0][0\n",
            " mbda)                                                              ]',                           \n",
            "                                                                     'tf.__operators__.add_9[0][0]\n",
            "                                                                    ']                            \n",
            "                                                                                                  \n",
            " tf.compat.v1.gather_26 (TF  (17, 2)                      0         ['tf.math.subtract_8[0][0]']  \n",
            " OpLambda)                                                                                        \n",
            "                                                                                                  \n",
            " tf.compat.v1.norm_4 (TFOpL  ()                           0         ['tf.math.subtract_7[0][0]']  \n",
            " ambda)                                                                                           \n",
            "                                                                                                  \n",
            " tf.compat.v1.norm_5 (TFOpL  (2,)                         0         ['tf.compat.v1.gather_26[0][0]\n",
            " ambda)                                                             ']                            \n",
            "                                                                                                  \n",
            " tf.math.multiply_26 (TFOpL  ()                           0         ['tf.compat.v1.norm_4[0][0]'] \n",
            " ambda)                                                                                           \n",
            "                                                                                                  \n",
            " tf.math.reduce_max_2 (TFOp  ()                           0         ['tf.compat.v1.norm_5[0][0]'] \n",
            " Lambda)                                                                                          \n",
            "                                                                                                  \n",
            " tf.math.maximum_2 (TFOpLam  ()                           0         ['tf.math.multiply_26[0][0]', \n",
            " bda)                                                                'tf.math.reduce_max_2[0][0]']\n",
            "                                                                                                  \n",
            " tf.math.truediv_2 (TFOpLam  (None, 17, 2)                0         ['tf.math.subtract_6[0][0]',  \n",
            " bda)                                                                'tf.math.maximum_2[0][0]']   \n",
            "                                                                                                  \n",
            " flatten_2 (Flatten)         (None, 34)                   0         ['tf.math.truediv_2[0][0]']   \n",
            "                                                                                                  \n",
            " dense_6 (Dense)             (None, 128)                  4480      ['flatten_2[0][0]']           \n",
            "                                                                                                  \n",
            " dropout_4 (Dropout)         (None, 128)                  0         ['dense_6[0][0]']             \n",
            "                                                                                                  \n",
            " dense_7 (Dense)             (None, 64)                   8256      ['dropout_4[0][0]']           \n",
            "                                                                                                  \n",
            " dropout_5 (Dropout)         (None, 64)                   0         ['dense_7[0][0]']             \n",
            "                                                                                                  \n",
            " dense_8 (Dense)             (None, 6)                    390       ['dropout_5[0][0]']           \n",
            "                                                                                                  \n",
            "==================================================================================================\n",
            "Total params: 13126 (51.27 KB)\n",
            "Trainable params: 13126 (51.27 KB)\n",
            "Non-trainable params: 0 (0.00 Byte)\n",
            "__________________________________________________________________________________________________\n"
          ]
        }
      ]
    },
    {
      "cell_type": "code",
      "source": [
        "model.compile(\n",
        "    optimizer='adam',\n",
        "    loss='categorical_crossentropy',\n",
        "    metrics=['accuracy']\n",
        ")\n",
        "\n",
        "# Add a checkpoint callback to store the checkpoint that has the highest\n",
        "# validation accuracy.\n",
        "checkpoint_path = \"weights.best.hdf5\"\n",
        "checkpoint = keras.callbacks.ModelCheckpoint(checkpoint_path,\n",
        "                             monitor='val_accuracy',\n",
        "                             verbose=1,\n",
        "                             save_best_only=True,\n",
        "                             mode='max')\n",
        "earlystopping = keras.callbacks.EarlyStopping(monitor='val_accuracy',\n",
        "                                              patience=20)\n"
      ],
      "metadata": {
        "id": "A2w-XlrOt91-"
      },
      "execution_count": null,
      "outputs": []
    },
    {
      "cell_type": "code",
      "source": [
        "# Start training\n",
        "history = model.fit(X_train, y_train,\n",
        "                    epochs=200,\n",
        "                    batch_size=16,\n",
        "                    validation_data=(X_val, y_val),\n",
        "                    callbacks=[checkpoint, earlystopping])"
      ],
      "metadata": {
        "id": "Wopd6AaxByQa",
        "colab": {
          "base_uri": "https://localhost:8080/"
        },
        "outputId": "9634396d-5134-4450-d365-72c1a98ea074"
      },
      "execution_count": null,
      "outputs": [
        {
          "output_type": "stream",
          "name": "stdout",
          "text": [
            "Epoch 1/200\n",
            "31/33 [===========================>..] - ETA: 0s - loss: 1.7102 - accuracy: 0.3347\n",
            "Epoch 1: val_accuracy improved from -inf to 0.66667, saving model to weights.best.hdf5\n",
            "33/33 [==============================] - 2s 20ms/step - loss: 1.7038 - accuracy: 0.3441 - val_loss: 1.5915 - val_accuracy: 0.6667\n",
            "Epoch 2/200\n",
            "30/33 [==========================>...] - ETA: 0s - loss: 1.4944 - accuracy: 0.5875"
          ]
        },
        {
          "output_type": "stream",
          "name": "stderr",
          "text": [
            "/usr/local/lib/python3.10/dist-packages/keras/src/engine/training.py:3103: UserWarning: You are saving your model as an HDF5 file via `model.save()`. This file format is considered legacy. We recommend using instead the native Keras format, e.g. `model.save('my_model.keras')`.\n",
            "  saving_api.save_model(\n"
          ]
        },
        {
          "output_type": "stream",
          "name": "stdout",
          "text": [
            "\n",
            "Epoch 2: val_accuracy improved from 0.66667 to 0.73118, saving model to weights.best.hdf5\n",
            "33/33 [==============================] - 0s 7ms/step - loss: 1.4857 - accuracy: 0.5913 - val_loss: 1.2743 - val_accuracy: 0.7312\n",
            "Epoch 3/200\n",
            "31/33 [===========================>..] - ETA: 0s - loss: 1.1758 - accuracy: 0.6754\n",
            "Epoch 3: val_accuracy did not improve from 0.73118\n",
            "33/33 [==============================] - 0s 6ms/step - loss: 1.1658 - accuracy: 0.6730 - val_loss: 0.9194 - val_accuracy: 0.7204\n",
            "Epoch 4/200\n",
            "33/33 [==============================] - ETA: 0s - loss: 0.8757 - accuracy: 0.7357\n",
            "Epoch 4: val_accuracy improved from 0.73118 to 0.79570, saving model to weights.best.hdf5\n",
            "33/33 [==============================] - 0s 7ms/step - loss: 0.8757 - accuracy: 0.7357 - val_loss: 0.6649 - val_accuracy: 0.7957\n",
            "Epoch 5/200\n",
            "18/33 [===============>..............] - ETA: 0s - loss: 0.7272 - accuracy: 0.7743\n",
            "Epoch 5: val_accuracy improved from 0.79570 to 0.83871, saving model to weights.best.hdf5\n",
            "33/33 [==============================] - 0s 6ms/step - loss: 0.6985 - accuracy: 0.7833 - val_loss: 0.5244 - val_accuracy: 0.8387\n",
            "Epoch 6/200\n",
            "30/33 [==========================>...] - ETA: 0s - loss: 0.6070 - accuracy: 0.8062\n",
            "Epoch 6: val_accuracy improved from 0.83871 to 0.89247, saving model to weights.best.hdf5\n",
            "33/33 [==============================] - 0s 7ms/step - loss: 0.5979 - accuracy: 0.8118 - val_loss: 0.4130 - val_accuracy: 0.8925\n",
            "Epoch 7/200\n",
            "29/33 [=========================>....] - ETA: 0s - loss: 0.4656 - accuracy: 0.8836\n",
            "Epoch 7: val_accuracy improved from 0.89247 to 0.93548, saving model to weights.best.hdf5\n",
            "33/33 [==============================] - 0s 7ms/step - loss: 0.4621 - accuracy: 0.8840 - val_loss: 0.3160 - val_accuracy: 0.9355\n",
            "Epoch 8/200\n",
            "27/33 [=======================>......] - ETA: 0s - loss: 0.4113 - accuracy: 0.8750\n",
            "Epoch 8: val_accuracy did not improve from 0.93548\n",
            "33/33 [==============================] - 0s 6ms/step - loss: 0.4158 - accuracy: 0.8764 - val_loss: 0.2700 - val_accuracy: 0.9032\n",
            "Epoch 9/200\n",
            "32/33 [============================>.] - ETA: 0s - loss: 0.3414 - accuracy: 0.9160\n",
            "Epoch 9: val_accuracy improved from 0.93548 to 0.95699, saving model to weights.best.hdf5\n",
            "33/33 [==============================] - 0s 7ms/step - loss: 0.3445 - accuracy: 0.9125 - val_loss: 0.2100 - val_accuracy: 0.9570\n",
            "Epoch 10/200\n",
            "33/33 [==============================] - ETA: 0s - loss: 0.2951 - accuracy: 0.9087\n",
            "Epoch 10: val_accuracy did not improve from 0.95699\n",
            "33/33 [==============================] - 0s 5ms/step - loss: 0.2951 - accuracy: 0.9087 - val_loss: 0.1945 - val_accuracy: 0.9355\n",
            "Epoch 11/200\n",
            "30/33 [==========================>...] - ETA: 0s - loss: 0.2494 - accuracy: 0.9312\n",
            "Epoch 11: val_accuracy did not improve from 0.95699\n",
            "33/33 [==============================] - 0s 6ms/step - loss: 0.2507 - accuracy: 0.9278 - val_loss: 0.1598 - val_accuracy: 0.9570\n",
            "Epoch 12/200\n",
            "31/33 [===========================>..] - ETA: 0s - loss: 0.2531 - accuracy: 0.9375\n",
            "Epoch 12: val_accuracy did not improve from 0.95699\n",
            "33/33 [==============================] - 0s 5ms/step - loss: 0.2530 - accuracy: 0.9373 - val_loss: 0.1517 - val_accuracy: 0.9462\n",
            "Epoch 13/200\n",
            "32/33 [============================>.] - ETA: 0s - loss: 0.2115 - accuracy: 0.9336\n",
            "Epoch 13: val_accuracy did not improve from 0.95699\n",
            "33/33 [==============================] - 0s 5ms/step - loss: 0.2088 - accuracy: 0.9354 - val_loss: 0.1340 - val_accuracy: 0.9462\n",
            "Epoch 14/200\n",
            "29/33 [=========================>....] - ETA: 0s - loss: 0.1781 - accuracy: 0.9526\n",
            "Epoch 14: val_accuracy did not improve from 0.95699\n",
            "33/33 [==============================] - 0s 6ms/step - loss: 0.1850 - accuracy: 0.9506 - val_loss: 0.1132 - val_accuracy: 0.9570\n",
            "Epoch 15/200\n",
            "24/33 [====================>.........] - ETA: 0s - loss: 0.1660 - accuracy: 0.9453\n",
            "Epoch 15: val_accuracy improved from 0.95699 to 0.97849, saving model to weights.best.hdf5\n",
            "33/33 [==============================] - 0s 5ms/step - loss: 0.1591 - accuracy: 0.9525 - val_loss: 0.0895 - val_accuracy: 0.9785\n",
            "Epoch 16/200\n",
            "23/33 [===================>..........] - ETA: 0s - loss: 0.1450 - accuracy: 0.9647\n",
            "Epoch 16: val_accuracy improved from 0.97849 to 1.00000, saving model to weights.best.hdf5\n",
            "33/33 [==============================] - 0s 5ms/step - loss: 0.1440 - accuracy: 0.9677 - val_loss: 0.0780 - val_accuracy: 1.0000\n",
            "Epoch 17/200\n",
            "18/33 [===============>..............] - ETA: 0s - loss: 0.1320 - accuracy: 0.9722\n",
            "Epoch 17: val_accuracy did not improve from 1.00000\n",
            "33/33 [==============================] - 0s 4ms/step - loss: 0.1506 - accuracy: 0.9582 - val_loss: 0.0705 - val_accuracy: 0.9785\n",
            "Epoch 18/200\n",
            "24/33 [====================>.........] - ETA: 0s - loss: 0.1537 - accuracy: 0.9427\n",
            "Epoch 18: val_accuracy did not improve from 1.00000\n",
            "33/33 [==============================] - 0s 4ms/step - loss: 0.1491 - accuracy: 0.9506 - val_loss: 0.0782 - val_accuracy: 0.9677\n",
            "Epoch 19/200\n",
            "22/33 [===================>..........] - ETA: 0s - loss: 0.1232 - accuracy: 0.9631\n",
            "Epoch 19: val_accuracy did not improve from 1.00000\n",
            "33/33 [==============================] - 0s 4ms/step - loss: 0.1201 - accuracy: 0.9658 - val_loss: 0.0554 - val_accuracy: 1.0000\n",
            "Epoch 20/200\n",
            "23/33 [===================>..........] - ETA: 0s - loss: 0.1103 - accuracy: 0.9783\n",
            "Epoch 20: val_accuracy did not improve from 1.00000\n",
            "33/33 [==============================] - 0s 4ms/step - loss: 0.1094 - accuracy: 0.9772 - val_loss: 0.0595 - val_accuracy: 1.0000\n",
            "Epoch 21/200\n",
            "22/33 [===================>..........] - ETA: 0s - loss: 0.0941 - accuracy: 0.9744\n",
            "Epoch 21: val_accuracy did not improve from 1.00000\n",
            "33/33 [==============================] - 0s 4ms/step - loss: 0.0942 - accuracy: 0.9753 - val_loss: 0.0470 - val_accuracy: 1.0000\n",
            "Epoch 22/200\n",
            "25/33 [=====================>........] - ETA: 0s - loss: 0.1075 - accuracy: 0.9675\n",
            "Epoch 22: val_accuracy did not improve from 1.00000\n",
            "33/33 [==============================] - 0s 4ms/step - loss: 0.1057 - accuracy: 0.9696 - val_loss: 0.0475 - val_accuracy: 1.0000\n",
            "Epoch 23/200\n",
            "23/33 [===================>..........] - ETA: 0s - loss: 0.0833 - accuracy: 0.9837\n",
            "Epoch 23: val_accuracy did not improve from 1.00000\n",
            "33/33 [==============================] - 0s 4ms/step - loss: 0.1041 - accuracy: 0.9734 - val_loss: 0.0342 - val_accuracy: 1.0000\n",
            "Epoch 24/200\n",
            "23/33 [===================>..........] - ETA: 0s - loss: 0.0941 - accuracy: 0.9810\n",
            "Epoch 24: val_accuracy did not improve from 1.00000\n",
            "33/33 [==============================] - 0s 3ms/step - loss: 0.0836 - accuracy: 0.9829 - val_loss: 0.0355 - val_accuracy: 1.0000\n",
            "Epoch 25/200\n",
            "17/33 [==============>...............] - ETA: 0s - loss: 0.0628 - accuracy: 0.9963\n",
            "Epoch 25: val_accuracy did not improve from 1.00000\n",
            "33/33 [==============================] - 0s 4ms/step - loss: 0.0756 - accuracy: 0.9886 - val_loss: 0.0330 - val_accuracy: 1.0000\n",
            "Epoch 26/200\n",
            "22/33 [===================>..........] - ETA: 0s - loss: 0.0540 - accuracy: 0.9943\n",
            "Epoch 26: val_accuracy did not improve from 1.00000\n",
            "33/33 [==============================] - 0s 4ms/step - loss: 0.0584 - accuracy: 0.9886 - val_loss: 0.0319 - val_accuracy: 1.0000\n",
            "Epoch 27/200\n",
            "24/33 [====================>.........] - ETA: 0s - loss: 0.0867 - accuracy: 0.9792\n",
            "Epoch 27: val_accuracy did not improve from 1.00000\n",
            "33/33 [==============================] - 0s 4ms/step - loss: 0.0805 - accuracy: 0.9810 - val_loss: 0.0222 - val_accuracy: 1.0000\n",
            "Epoch 28/200\n",
            "24/33 [====================>.........] - ETA: 0s - loss: 0.0616 - accuracy: 0.9870\n",
            "Epoch 28: val_accuracy did not improve from 1.00000\n",
            "33/33 [==============================] - 0s 4ms/step - loss: 0.0643 - accuracy: 0.9867 - val_loss: 0.0277 - val_accuracy: 1.0000\n",
            "Epoch 29/200\n",
            "22/33 [===================>..........] - ETA: 0s - loss: 0.0782 - accuracy: 0.9801\n",
            "Epoch 29: val_accuracy did not improve from 1.00000\n",
            "33/33 [==============================] - 0s 4ms/step - loss: 0.0699 - accuracy: 0.9810 - val_loss: 0.0256 - val_accuracy: 1.0000\n",
            "Epoch 30/200\n",
            "25/33 [=====================>........] - ETA: 0s - loss: 0.0587 - accuracy: 0.9925\n",
            "Epoch 30: val_accuracy did not improve from 1.00000\n",
            "33/33 [==============================] - 0s 4ms/step - loss: 0.0615 - accuracy: 0.9924 - val_loss: 0.0188 - val_accuracy: 1.0000\n",
            "Epoch 31/200\n",
            "24/33 [====================>.........] - ETA: 0s - loss: 0.0618 - accuracy: 0.9844\n",
            "Epoch 31: val_accuracy did not improve from 1.00000\n",
            "33/33 [==============================] - 0s 4ms/step - loss: 0.0652 - accuracy: 0.9829 - val_loss: 0.0200 - val_accuracy: 1.0000\n",
            "Epoch 32/200\n",
            "24/33 [====================>.........] - ETA: 0s - loss: 0.0597 - accuracy: 0.9922\n",
            "Epoch 32: val_accuracy did not improve from 1.00000\n",
            "33/33 [==============================] - 0s 4ms/step - loss: 0.0527 - accuracy: 0.9943 - val_loss: 0.0204 - val_accuracy: 1.0000\n",
            "Epoch 33/200\n",
            "26/33 [======================>.......] - ETA: 0s - loss: 0.0480 - accuracy: 0.9952\n",
            "Epoch 33: val_accuracy did not improve from 1.00000\n",
            "33/33 [==============================] - 0s 3ms/step - loss: 0.0483 - accuracy: 0.9924 - val_loss: 0.0151 - val_accuracy: 1.0000\n",
            "Epoch 34/200\n",
            "25/33 [=====================>........] - ETA: 0s - loss: 0.0660 - accuracy: 0.9825\n",
            "Epoch 34: val_accuracy did not improve from 1.00000\n",
            "33/33 [==============================] - 0s 4ms/step - loss: 0.0576 - accuracy: 0.9867 - val_loss: 0.0120 - val_accuracy: 1.0000\n",
            "Epoch 35/200\n",
            "21/33 [==================>...........] - ETA: 0s - loss: 0.0560 - accuracy: 0.9881\n",
            "Epoch 35: val_accuracy did not improve from 1.00000\n",
            "33/33 [==============================] - 0s 4ms/step - loss: 0.0497 - accuracy: 0.9924 - val_loss: 0.0175 - val_accuracy: 1.0000\n",
            "Epoch 36/200\n",
            "24/33 [====================>.........] - ETA: 0s - loss: 0.0582 - accuracy: 0.9896\n",
            "Epoch 36: val_accuracy did not improve from 1.00000\n",
            "33/33 [==============================] - 0s 4ms/step - loss: 0.0537 - accuracy: 0.9867 - val_loss: 0.0126 - val_accuracy: 1.0000\n"
          ]
        }
      ]
    },
    {
      "cell_type": "code",
      "source": [],
      "metadata": {
        "id": "9rR1D53ovjGw"
      },
      "execution_count": null,
      "outputs": []
    },
    {
      "cell_type": "code",
      "source": [
        "# Visualize the training history\n",
        "plt.plot(history.history['accuracy'])\n",
        "plt.plot(history.history['val_accuracy'])\n",
        "plt.title('Model accuracy')\n",
        "plt.ylabel('accuracy')\n",
        "plt.xlabel('epoch')\n",
        "plt.legend(['TRAIN', 'VAL'], loc='lower right')\n",
        "plt.show()"
      ],
      "metadata": {
        "colab": {
          "base_uri": "https://localhost:8080/",
          "height": 472
        },
        "id": "IonyOeOJuY6d",
        "outputId": "c69df442-5225-4d7d-a744-42677b30e6e1"
      },
      "execution_count": null,
      "outputs": [
        {
          "output_type": "display_data",
          "data": {
            "text/plain": [
              "<Figure size 640x480 with 1 Axes>"
            ],
            "image/png": "[encoded data removed]"
          },
          "metadata": {}
        }
      ]
    },
    {
      "cell_type": "code",
      "source": [
        "# Display training and validation accuracy values\n",
        "for epoch in range(len(history.history['accuracy'])):\n",
        "    train_acc = history.history['accuracy'][epoch]\n",
        "    val_acc = history.history['val_accuracy'][epoch]\n",
        "    print(f'Epoch {epoch + 1}/{len(history.history[\"accuracy\"])} - Training Accuracy: {train_acc:.4f} - Validation Accuracy: {val_acc:.4f}')\n",
        "\n",
        "# Plot training history\n",
        "plt.figure(figsize=(12, 6))\n",
        "\n",
        "# Plot training & validation accuracy values\n",
        "plt.subplot(1, 2, 1)\n",
        "plt.plot(history.history['accuracy'])\n",
        "plt.plot(history.history['val_accuracy'])\n",
        "plt.title('Model Accuracy')\n",
        "plt.xlabel('Epoch')\n",
        "plt.ylabel('Accuracy')\n",
        "plt.legend(['Train', 'Validation'], loc='upper left')\n",
        "\n",
        "# Plot training & validation loss values\n",
        "plt.subplot(1, 2, 2)\n",
        "plt.plot(history.history['loss'])\n",
        "plt.plot(history.history['val_loss'])\n",
        "plt.title('Model Loss')\n",
        "plt.xlabel('Epoch')\n",
        "plt.ylabel('Loss')\n",
        "plt.legend(['Train', 'Validation'], loc='upper left')\n",
        "\n",
        "plt.tight_layout()\n",
        "plt.show()"
      ],
      "metadata": {
        "colab": {
          "base_uri": "https://localhost:8080/",
          "height": 1000
        },
        "id": "JcTKKi6YOuYz",
        "outputId": "1e09733a-2bfd-4a2f-e0e8-bd0d333ecd97"
      },
      "execution_count": null,
      "outputs": [
        {
          "output_type": "stream",
          "name": "stdout",
          "text": [
            "Epoch 1/36 - Training Accuracy: 0.3441 - Validation Accuracy: 0.6667\n",
            "Epoch 2/36 - Training Accuracy: 0.5913 - Validation Accuracy: 0.7312\n",
            "Epoch 3/36 - Training Accuracy: 0.6730 - Validation Accuracy: 0.7204\n",
            "Epoch 4/36 - Training Accuracy: 0.7357 - Validation Accuracy: 0.7957\n",
            "Epoch 5/36 - Training Accuracy: 0.7833 - Validation Accuracy: 0.8387\n",
            "Epoch 6/36 - Training Accuracy: 0.8118 - Validation Accuracy: 0.8925\n",
            "Epoch 7/36 - Training Accuracy: 0.8840 - Validation Accuracy: 0.9355\n",
            "Epoch 8/36 - Training Accuracy: 0.8764 - Validation Accuracy: 0.9032\n",
            "Epoch 9/36 - Training Accuracy: 0.9125 - Validation Accuracy: 0.9570\n",
            "Epoch 10/36 - Training Accuracy: 0.9087 - Validation Accuracy: 0.9355\n",
            "Epoch 11/36 - Training Accuracy: 0.9278 - Validation Accuracy: 0.9570\n",
            "Epoch 12/36 - Training Accuracy: 0.9373 - Validation Accuracy: 0.9462\n",
            "Epoch 13/36 - Training Accuracy: 0.9354 - Validation Accuracy: 0.9462\n",
            "Epoch 14/36 - Training Accuracy: 0.9506 - Validation Accuracy: 0.9570\n",
            "Epoch 15/36 - Training Accuracy: 0.9525 - Validation Accuracy: 0.9785\n",
            "Epoch 16/36 - Training Accuracy: 0.9677 - Validation Accuracy: 1.0000\n",
            "Epoch 17/36 - Training Accuracy: 0.9582 - Validation Accuracy: 0.9785\n",
            "Epoch 18/36 - Training Accuracy: 0.9506 - Validation Accuracy: 0.9677\n",
            "Epoch 19/36 - Training Accuracy: 0.9658 - Validation Accuracy: 1.0000\n",
            "Epoch 20/36 - Training Accuracy: 0.9772 - Validation Accuracy: 1.0000\n",
            "Epoch 21/36 - Training Accuracy: 0.9753 - Validation Accuracy: 1.0000\n",
            "Epoch 22/36 - Training Accuracy: 0.9696 - Validation Accuracy: 1.0000\n",
            "Epoch 23/36 - Training Accuracy: 0.9734 - Validation Accuracy: 1.0000\n",
            "Epoch 24/36 - Training Accuracy: 0.9829 - Validation Accuracy: 1.0000\n",
            "Epoch 25/36 - Training Accuracy: 0.9886 - Validation Accuracy: 1.0000\n",
            "Epoch 26/36 - Training Accuracy: 0.9886 - Validation Accuracy: 1.0000\n",
            "Epoch 27/36 - Training Accuracy: 0.9810 - Validation Accuracy: 1.0000\n",
            "Epoch 28/36 - Training Accuracy: 0.9867 - Validation Accuracy: 1.0000\n",
            "Epoch 29/36 - Training Accuracy: 0.9810 - Validation Accuracy: 1.0000\n",
            "Epoch 30/36 - Training Accuracy: 0.9924 - Validation Accuracy: 1.0000\n",
            "Epoch 31/36 - Training Accuracy: 0.9829 - Validation Accuracy: 1.0000\n",
            "Epoch 32/36 - Training Accuracy: 0.9943 - Validation Accuracy: 1.0000\n",
            "Epoch 33/36 - Training Accuracy: 0.9924 - Validation Accuracy: 1.0000\n",
            "Epoch 34/36 - Training Accuracy: 0.9867 - Validation Accuracy: 1.0000\n",
            "Epoch 35/36 - Training Accuracy: 0.9924 - Validation Accuracy: 1.0000\n",
            "Epoch 36/36 - Training Accuracy: 0.9867 - Validation Accuracy: 1.0000\n"
          ]
        },
        {
          "output_type": "display_data",
          "data": {
            "text/plain": [
              "<Figure size 1200x600 with 2 Axes>"
            ],
            "image/png": "[encoded data removed]"
          },
          "metadata": {}
        }
      ]
    },
    {
      "cell_type": "code",
      "source": [
        "# Evaluate the model using the TEST dataset\n",
        "loss, accuracy = model.evaluate(X_test, y_test)"
      ],
      "metadata": {
        "colab": {
          "base_uri": "https://localhost:8080/"
        },
        "id": "q7-dtpEeyMua",
        "outputId": "02fbf489-d34c-496e-e4ac-dd0e756c9478"
      },
      "execution_count": null,
      "outputs": [
        {
          "output_type": "stream",
          "name": "stdout",
          "text": [
            "27/27 [==============================] - 0s 2ms/step - loss: 0.9273 - accuracy: 0.7889\n"
          ]
        }
      ]
    },
    {
      "cell_type": "code",
      "source": [
        "def plot_confusion_matrix(cm, classes,\n",
        "                          normalize=False,\n",
        "                          title='Confusion matrix',\n",
        "                          cmap=plt.cm.Blues):\n",
        "  \"\"\"Plots the confusion matrix.\"\"\"\n",
        "  if normalize:\n",
        "    cm = cm.astype('float') / cm.sum(axis=1)[:, np.newaxis]\n",
        "    print(\"Normalized confusion matrix\")\n",
        "  else:\n",
        "    print('Confusion matrix, without normalization')\n",
        "\n",
        "  plt.imshow(cm, interpolation='nearest', cmap=cmap)\n",
        "  plt.title(title)\n",
        "  plt.colorbar()\n",
        "  tick_marks = np.arange(len(classes))\n",
        "  plt.xticks(tick_marks, classes, rotation=55)\n",
        "  plt.yticks(tick_marks, classes)\n",
        "  fmt = '.2f' if normalize else 'd'\n",
        "  thresh = cm.max() / 2.\n",
        "  for i, j in itertools.product(range(cm.shape[0]), range(cm.shape[1])):\n",
        "    plt.text(j, i, format(cm[i, j], fmt),\n",
        "              horizontalalignment=\"center\",\n",
        "              color=\"white\" if cm[i, j] > thresh else \"black\")\n",
        "\n",
        "  plt.ylabel('True label')\n",
        "  plt.xlabel('Predicted label')\n",
        "  plt.tight_layout()\n",
        "\n",
        "# Classify pose in the TEST dataset using the trained model\n",
        "y_pred = model.predict(X_test)\n",
        "\n",
        "\n",
        "y_pred_label = [class_names[i] for i in np.argmax(y_pred, axis=1)]\n",
        "y_true_label = [class_names[i] for i in np.argmax(y_test, axis=1)]\n",
        "\n",
        "\n",
        "cm = confusion_matrix(np.argmax(y_test, axis=1), np.argmax(y_pred, axis=1))\n",
        "plot_confusion_matrix(cm,\n",
        "                      class_names,\n",
        "                      title ='Confusion Matrix of Pose Classification Model')\n",
        "\n",
        "\n",
        "print('\\nClassification Report:\\n', classification_report(y_true_label,\n",
        "                                                          y_pred_label))"
      ],
      "metadata": {
        "colab": {
          "base_uri": "https://localhost:8080/",
          "height": 782
        },
        "id": "rHhN6WHPyPil",
        "outputId": "4f0b4a3b-59cf-4cd3-c624-b8edf1b0fc6f"
      },
      "execution_count": null,
      "outputs": [
        {
          "output_type": "stream",
          "name": "stdout",
          "text": [
            "27/27 [==============================] - 0s 2ms/step\n",
            "Confusion matrix, without normalization\n",
            "\n",
            "Classification Report:\n",
            "               precision    recall  f1-score   support\n",
            "\n",
            "       chair       0.87      0.72      0.79       167\n",
            "       cobra       0.81      0.61      0.70       113\n",
            "         dog       0.96      0.85      0.90       139\n",
            "       plank       0.65      0.92      0.76       182\n",
            "        tree       0.80      0.90      0.85       184\n",
            "     warrior       0.76      0.51      0.61        77\n",
            "\n",
            "    accuracy                           0.79       862\n",
            "   macro avg       0.81      0.75      0.77       862\n",
            "weighted avg       0.81      0.79      0.79       862\n",
            "\n"
          ]
        },
        {
          "output_type": "display_data",
          "data": {
            "text/plain": [
              "<Figure size 640x480 with 2 Axes>"
            ],
            "image/png": "[encoded data removed]"
          },
          "metadata": {}
        }
      ]
    },
    {
      "cell_type": "code",
      "source": [
        "model.save('your_model.h5')"
      ],
      "metadata": {
        "colab": {
          "base_uri": "https://localhost:8080/"
        },
        "id": "zRWrCfIfOcUs",
        "outputId": "aa7359bf-6930-4958-9638-55a0d7546508"
      },
      "execution_count": null,
      "outputs": [
        {
          "output_type": "stream",
          "name": "stderr",
          "text": [
            "/usr/local/lib/python3.10/dist-packages/keras/src/engine/training.py:3103: UserWarning: You are saving your model as an HDF5 file via `model.save()`. This file format is considered legacy. We recommend using instead the native Keras format, e.g. `model.save('my_model.keras')`.\n",
            "  saving_api.save_model(\n"
          ]
        }
      ]
    },
    {
      "cell_type": "code",
      "source": [
        "converter = tf.lite.TFLiteConverter.from_keras_model(model)\n",
        "converter.optimizations = [tf.lite.Optimize.DEFAULT]\n",
        "tflite_model = converter.convert()\n",
        "\n",
        "print('Model size: %dKB' % (len(tflite_model) / 1024))\n",
        "\n",
        "with open('pose_classifier.tflite', 'wb') as f:\n",
        "  f.write(tflite_model)"
      ],
      "metadata": {
        "id": "i0-Q7JG-yVmJ",
        "colab": {
          "base_uri": "https://localhost:8080/"
        },
        "outputId": "c009a4f4-34c5-4115-b983-eae0281f46a4"
      },
      "execution_count": null,
      "outputs": [
        {
          "output_type": "stream",
          "name": "stdout",
          "text": [
            "Model size: 27KB\n"
          ]
        }
      ]
    },
    {
      "cell_type": "code",
      "source": [],
      "metadata": {
        "id": "voIu8qFTtSYH"
      },
      "execution_count": null,
      "outputs": []
    },
    {
      "cell_type": "code",
      "source": [
        "with open('pose_labels.txt', 'w') as f:\n",
        "  f.write('\\n'.join(class_names))"
      ],
      "metadata": {
        "id": "uXriH6-_OiBf"
      },
      "execution_count": null,
      "outputs": []
    },
    {
      "cell_type": "code",
      "source": [
        "def evaluate_model(interpreter, X, y_true):\n",
        "  \"\"\"Evaluates the given TFLite model and return its accuracy.\"\"\"\n",
        "  input_index = interpreter.get_input_details()[0][\"index\"]\n",
        "  output_index = interpreter.get_output_details()[0][\"index\"]\n",
        "\n",
        "  # Run predictions on all given poses.\n",
        "  y_pred = []\n",
        "  for i in range(len(y_true)):\n",
        "    # Pre-processing: add batch dimension and convert to float32 to match with\n",
        "    # the model's input data format.\n",
        "    test_image = X[i: i + 1].astype('float32')\n",
        "    interpreter.set_tensor(input_index, test_image)\n",
        "\n",
        "    # Run inference.\n",
        "    interpreter.invoke()\n",
        "\n",
        "    # Post-processing: remove batch dimension and find the class with highest\n",
        "    # probability.\n",
        "    output = interpreter.tensor(output_index)\n",
        "    predicted_label = np.argmax(output()[0])\n",
        "    y_pred.append(predicted_label)\n",
        "\n",
        "  # Compare prediction results with ground truth labels to calculate accuracy.\n",
        "  y_pred = keras.utils.to_categorical(y_pred)\n",
        "  return accuracy_score(y_true, y_pred)\n",
        "\n",
        "# Evaluate the accuracy of the converted TFLite model\n",
        "classifier_interpreter = tf.lite.Interpreter(model_content=tflite_model)\n",
        "classifier_interpreter.allocate_tensors()\n",
        "print('Accuracy of TFLite model: %s' %\n",
        "      evaluate_model(classifier_interpreter, X_test, y_test))"
      ],
      "metadata": {
        "id": "bA3h9s2SOklN",
        "outputId": "a2a06bd6-899e-4280-b298-89e6cffbf08b",
        "colab": {
          "base_uri": "https://localhost:8080/"
        }
      },
      "execution_count": null,
      "outputs": [
        {
          "output_type": "stream",
          "name": "stdout",
          "text": [
            "Accuracy of TFLite model: 0.7923433874709976\n"
          ]
        }
      ]
    },
    {
      "cell_type": "code",
      "source": [],
      "metadata": {
        "id": "ln31w6N_tf1R"
      },
      "execution_count": null,
      "outputs": []
    },
    {
      "cell_type": "code",
      "source": [],
      "metadata": {
        "id": "Fvni9axW01WX"
      },
      "execution_count": null,
      "outputs": []
    },
    {
      "cell_type": "code",
      "source": [],
      "metadata": {
        "id": "wkNdjMf101_x"
      },
      "execution_count": null,
      "outputs": []
    },
    {
      "cell_type": "code",
      "source": [],
      "metadata": {
        "id": "Gt5wzYIL04V5"
      },
      "execution_count": null,
      "outputs": []
    }
  ]
}